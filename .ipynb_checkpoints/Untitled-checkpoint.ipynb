{
 "cells": [
  {
   "cell_type": "code",
   "execution_count": 1,
   "metadata": {},
   "outputs": [],
   "source": [
    "import pandas as pd\n",
    "from bs4 import BeautifulSoup as bs\n",
    "import requests\n",
    "from splinter import Browser\n",
    "import pymongo"
   ]
  },
  {
   "cell_type": "code",
   "execution_count": 2,
   "metadata": {},
   "outputs": [
    {
     "data": {
      "text/plain": [
       "<Response [200]>"
      ]
     },
     "execution_count": 2,
     "metadata": {},
     "output_type": "execute_result"
    }
   ],
   "source": [
    "urx=\"https://amazon.jobs/en\"\n",
    "html = requests.get(urx)\n",
    "html"
   ]
  },
  {
   "cell_type": "code",
   "execution_count": 3,
   "metadata": {},
   "outputs": [],
   "source": [
    "bsobj = bs(html.content, \"html.parser\")"
   ]
  },
  {
   "cell_type": "code",
   "execution_count": 138,
   "metadata": {},
   "outputs": [],
   "source": [
    "result_f = bsobj.find_all('div', class_=\"nav-link-wrapper\")"
   ]
  },
  {
   "cell_type": "code",
   "execution_count": 139,
   "metadata": {},
   "outputs": [
    {
     "name": "stdout",
     "output_type": "stream",
     "text": [
      "-------------\n",
      "https://amazon.jobs/en/job_categories\n"
     ]
    }
   ],
   "source": [
    "for result in result_f:\n",
    "    try:\n",
    "        link = result.a['href']\n",
    "        if (link==\"/en/job_categories\"):\n",
    "            print('-------------')\n",
    "            jobC = \"https://amazon.jobs\"+ link\n",
    "            print(jobC)\n",
    "    except AttributeError as e:\n",
    "        print(e)"
   ]
  },
  {
   "cell_type": "code",
   "execution_count": 140,
   "metadata": {},
   "outputs": [
    {
     "data": {
      "text/plain": [
       "<Response [200]>"
      ]
     },
     "execution_count": 140,
     "metadata": {},
     "output_type": "execute_result"
    }
   ],
   "source": [
    "urz=jobC\n",
    "htmz = requests.get(urz)\n",
    "htmz"
   ]
  },
  {
   "cell_type": "code",
   "execution_count": 149,
   "metadata": {},
   "outputs": [],
   "source": [
    "sopa = bs(htmz.content, \"html.parser\")"
   ]
  },
  {
   "cell_type": "code",
   "execution_count": 150,
   "metadata": {},
   "outputs": [],
   "source": [
    "filter_One = sopa.find_all('div',class_='container collection-tiles')\n"
   ]
  },
  {
   "cell_type": "code",
   "execution_count": 186,
   "metadata": {
    "scrolled": false
   },
   "outputs": [],
   "source": [
    "filter_Two=filter_One[0].div[\"data-react-props\"]\n",
    "items = eval(filter_Two)[\"items\"]\n",
    "jobCat_url=[]\n",
    "jobCat_title=[]\n",
    "\n",
    "for item in items:\n",
    "    try:\n",
    "        title = item['title']\n",
    "        part_url = item['link']\n",
    "        job_url = \"https://amazon.jobs\"+ part_url\n",
    "        jobCat_url.append(job_url)\n",
    "        jobCat_title.append(title)\n",
    "    except AttributeError as e:\n",
    "        print(e)"
   ]
  },
  {
   "cell_type": "code",
   "execution_count": 187,
   "metadata": {},
   "outputs": [
    {
     "data": {
      "text/plain": [
       "['https://amazon.jobs/en/job_categories/administrative-support',\n",
       " 'https://amazon.jobs/en/job_categories/audio-video-photography-production',\n",
       " 'https://amazon.jobs/en/job_categories/business-merchant-development',\n",
       " 'https://amazon.jobs/en/job_categories/business-intelligence',\n",
       " 'https://amazon.jobs/en/job_categories/buying-planning-instock-management',\n",
       " 'https://amazon.jobs/en/job_categories/customer-service',\n",
       " 'https://amazon.jobs/en/job_categories/data-science',\n",
       " 'https://amazon.jobs/en/job_categories/database-administration',\n",
       " 'https://amazon.jobs/en/job_categories/design',\n",
       " 'https://amazon.jobs/en/job_categories/economics',\n",
       " 'https://amazon.jobs/en/job_categories/editorial-writing-content-management',\n",
       " 'https://amazon.jobs/en/job_categories/facilities-maintenance-real-estate',\n",
       " 'https://amazon.jobs/en/job_categories/finance-accounting',\n",
       " 'https://amazon.jobs/en/job_categories/fulfillment-operations-management',\n",
       " 'https://amazon.jobs/en/job_categories/fulfillment-warehouse-associate',\n",
       " 'https://amazon.jobs/en/job_categories/hardware-development',\n",
       " 'https://amazon.jobs/en/job_categories/human-resources',\n",
       " 'https://amazon.jobs/en/job_categories/investigation-loss-prevention',\n",
       " 'https://amazon.jobs/en/job_categories/leadership-development-training',\n",
       " 'https://amazon.jobs/en/job_categories/legal',\n",
       " 'https://amazon.jobs/en/job_categories/machine-learning-science',\n",
       " 'https://amazon.jobs/en/job_categories/marketing-pr',\n",
       " 'https://amazon.jobs/en/job_categories/medical-health-safety',\n",
       " 'https://amazon.jobs/en/job_categories/operations-it-support-engineering',\n",
       " 'https://amazon.jobs/en/job_categories/project-program-product-management-non-tech',\n",
       " 'https://amazon.jobs/en/job_categories/project-program-product-management-technical',\n",
       " 'https://amazon.jobs/en/job_categories/public-policy',\n",
       " 'https://amazon.jobs/en/job_categories/research-science',\n",
       " 'https://amazon.jobs/en/job_categories/sales-advertising-account-management',\n",
       " 'https://amazon.jobs/en/job_categories/software-development',\n",
       " 'https://amazon.jobs/en/job_categories/solutions-architect',\n",
       " 'https://amazon.jobs/en/job_categories/supply-chain-transportation-management',\n",
       " 'https://amazon.jobs/en/job_categories/systems-quality-security-engineering']"
      ]
     },
     "execution_count": 187,
     "metadata": {},
     "output_type": "execute_result"
    }
   ],
   "source": [
    "jobCat_url"
   ]
  },
  {
   "cell_type": "code",
   "execution_count": 188,
   "metadata": {},
   "outputs": [
    {
     "data": {
      "text/plain": [
       "['Administrative Support',\n",
       " 'Audio / Video / Photography Production',\n",
       " 'Business & Merchant Development',\n",
       " 'Business Intelligence',\n",
       " 'Buying, Planning, & Instock Management',\n",
       " 'Customer Service',\n",
       " 'Data Science',\n",
       " 'Database Administration',\n",
       " 'Design',\n",
       " 'Economics',\n",
       " 'Editorial, Writing, & Content Management',\n",
       " 'Facilities, Maintenance, & Real Estate',\n",
       " 'Finance and Accounting',\n",
       " 'Fulfillment & Operations Management',\n",
       " 'Fulfillment / Warehouse Associate',\n",
       " 'Hardware Development',\n",
       " 'Human Resources',\n",
       " 'Investigation & Loss Prevention',\n",
       " 'Leadership Development & Training',\n",
       " 'Legal',\n",
       " 'Machine Learning Science',\n",
       " 'Marketing & PR',\n",
       " 'Medical, Health, & Safety',\n",
       " 'Operations, IT, & Support Engineering',\n",
       " 'Project/Program/Product Management--Non-Tech',\n",
       " 'Project/Program/Product Management--Technical',\n",
       " 'Public Policy',\n",
       " 'Research Science',\n",
       " 'Sales, Advertising, & Account Management',\n",
       " 'Software Development',\n",
       " 'Solutions Architect',\n",
       " 'Supply Chain/Transportation Management',\n",
       " 'Systems, Quality, & Security Engineering']"
      ]
     },
     "execution_count": 188,
     "metadata": {},
     "output_type": "execute_result"
    }
   ],
   "source": [
    "jobCat_title"
   ]
  },
  {
   "cell_type": "code",
   "execution_count": null,
   "metadata": {},
   "outputs": [],
   "source": []
  },
  {
   "cell_type": "code",
   "execution_count": null,
   "metadata": {},
   "outputs": [],
   "source": []
  },
  {
   "cell_type": "code",
   "execution_count": null,
   "metadata": {},
   "outputs": [],
   "source": []
  },
  {
   "cell_type": "code",
   "execution_count": null,
   "metadata": {},
   "outputs": [],
   "source": []
  }
 ],
 "metadata": {
  "kernelspec": {
   "display_name": "Python 3",
   "language": "python",
   "name": "python3"
  },
  "language_info": {
   "codemirror_mode": {
    "name": "ipython",
    "version": 3
   },
   "file_extension": ".py",
   "mimetype": "text/x-python",
   "name": "python",
   "nbconvert_exporter": "python",
   "pygments_lexer": "ipython3",
   "version": "3.7.3"
  }
 },
 "nbformat": 4,
 "nbformat_minor": 2
}
